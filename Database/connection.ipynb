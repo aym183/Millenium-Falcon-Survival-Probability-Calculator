{
 "cells": [
  {
   "cell_type": "code",
   "execution_count": 17,
   "metadata": {},
   "outputs": [
    {
     "name": "stdout",
     "output_type": "stream",
     "text": [
      "('Tatooine', 'Dagobah', 6)\n",
      "('Dagobah', 'Endor', 4)\n",
      "('Dagobah', 'Hoth', 1)\n",
      "('Hoth', 'Endor', 1)\n",
      "('Tatooine', 'Hoth', 6)\n",
      "('Tatooine', 'Dagobah', 6)\n",
      "('Dagobah', 'Endor', 4)\n",
      "('Dagobah', 'Hoth', 1)\n",
      "('Hoth', 'Endor', 1)\n",
      "('Tatooine', 'Hoth', 6)\n"
     ]
    }
   ],
   "source": [
    "import sqlite3\n",
    "conn = sqlite3.connect(\"universe.db\")\n",
    "\n",
    "c = conn.cursor()\n",
    "\n",
    "# c.execute(\"\"\"DROP TABLE IF EXISTS ROUTES\"\"\")\n",
    "\n",
    "c.execute(\"\"\"CREATE TABLE IF NOT EXISTS ROUTES (\n",
    "    ORIGIN VARCHAR(150) NOT NULL,\n",
    "    DESTINATION VARCHAR(150) NOT NULL,\n",
    "    TRAVEL_TIME MEDIUMINT UNSIGNED\n",
    ")\"\"\")\n",
    "\n",
    "\n",
    "# c.execute(\"\"\"INSERT into ROUTES VALUES\n",
    "#     ('Tatooine', 'Dagobah', 6),\n",
    "#     ('Dagobah', 'Endor', 4),\n",
    "#     ('Dagobah', 'Hoth', 1),\n",
    "#     ('Hoth', 'Endor', 1),\n",
    "#     ('Tatooine', 'Hoth', 6)\n",
    "# \"\"\")\n",
    "\n",
    "c.execute(\"\"\"SELECT * FROM ROUTES\"\"\")\n",
    "for i in c.fetchall():\n",
    "    print(i)\n",
    "\n",
    "conn.commit()\n",
    "conn.close()"
   ]
  }
 ],
 "metadata": {
  "kernelspec": {
   "display_name": "Python 3.8.9 64-bit",
   "language": "python",
   "name": "python3"
  },
  "language_info": {
   "codemirror_mode": {
    "name": "ipython",
    "version": 3
   },
   "file_extension": ".py",
   "mimetype": "text/x-python",
   "name": "python",
   "nbconvert_exporter": "python",
   "pygments_lexer": "ipython3",
   "version": "3.8.9"
  },
  "orig_nbformat": 4,
  "vscode": {
   "interpreter": {
    "hash": "31f2aee4e71d21fbe5cf8b01ff0e069b9275f58929596ceb00d14d90e3e16cd6"
   }
  }
 },
 "nbformat": 4,
 "nbformat_minor": 2
}
